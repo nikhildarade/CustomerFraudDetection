{
 "cells": [
  {
   "cell_type": "code",
   "execution_count": 1,
   "metadata": {},
   "outputs": [],
   "source": [
    "import pandas as pd\n",
    "import numpy as np\n",
    "import seaborn as sns\n",
    "import matplotlib.pyplot as plt\n",
    "%matplotlib inline"
   ]
  },
  {
   "cell_type": "code",
   "execution_count": 2,
   "metadata": {},
   "outputs": [],
   "source": [
    "import json \n",
    "import pandas as pd \n",
    "from pandas.io.json import json_normalize"
   ]
  },
  {
   "cell_type": "code",
   "execution_count": 3,
   "metadata": {},
   "outputs": [],
   "source": [
    "data = pd.read_json(\"customersdata.json\", lines=True)"
   ]
  },
  {
   "cell_type": "code",
   "execution_count": 4,
   "metadata": {},
   "outputs": [
    {
     "data": {
      "text/html": [
       "<div>\n",
       "<style scoped>\n",
       "    .dataframe tbody tr th:only-of-type {\n",
       "        vertical-align: middle;\n",
       "    }\n",
       "\n",
       "    .dataframe tbody tr th {\n",
       "        vertical-align: top;\n",
       "    }\n",
       "\n",
       "    .dataframe thead th {\n",
       "        text-align: right;\n",
       "    }\n",
       "</style>\n",
       "<table border=\"1\" class=\"dataframe\">\n",
       "  <thead>\n",
       "    <tr style=\"text-align: right;\">\n",
       "      <th></th>\n",
       "      <th>customer</th>\n",
       "      <th>fraudulent</th>\n",
       "      <th>orders</th>\n",
       "      <th>paymentMethods</th>\n",
       "      <th>transactions</th>\n",
       "    </tr>\n",
       "  </thead>\n",
       "  <tbody>\n",
       "    <tr>\n",
       "      <th>0</th>\n",
       "      <td>{'customerEmail': 'josephhoward@yahoo.com', 'c...</td>\n",
       "      <td>False</td>\n",
       "      <td>[{'orderId': 'vjbdvd', 'orderAmount': 18, 'ord...</td>\n",
       "      <td>[{'paymentMethodId': 'wt07xm68b', 'paymentMeth...</td>\n",
       "      <td>[{'transactionId': 'a9lcj51r', 'orderId': 'vjb...</td>\n",
       "    </tr>\n",
       "    <tr>\n",
       "      <th>1</th>\n",
       "      <td>{'customerEmail': 'evansjeffery@yahoo.com', 'c...</td>\n",
       "      <td>True</td>\n",
       "      <td>[{'orderId': 'nlghpa', 'orderAmount': 45, 'ord...</td>\n",
       "      <td>[{'paymentMethodId': 'y3xp697jx', 'paymentMeth...</td>\n",
       "      <td>[{'transactionId': '5mi94sfw', 'orderId': 'nlg...</td>\n",
       "    </tr>\n",
       "    <tr>\n",
       "      <th>2</th>\n",
       "      <td>{'customerEmail': 'andersonwilliam@yahoo.com',...</td>\n",
       "      <td>False</td>\n",
       "      <td>[{'orderId': 'yk34y2', 'orderAmount': 33, 'ord...</td>\n",
       "      <td>[{'paymentMethodId': '8pneoi03z', 'paymentMeth...</td>\n",
       "      <td>[{'transactionId': 'q3lyvbza', 'orderId': 'yk3...</td>\n",
       "    </tr>\n",
       "    <tr>\n",
       "      <th>3</th>\n",
       "      <td>{'customerEmail': 'rubenjuarez@yahoo.com', 'cu...</td>\n",
       "      <td>False</td>\n",
       "      <td>[{'orderId': 'fbz9ep', 'orderAmount': 34, 'ord...</td>\n",
       "      <td>[{'paymentMethodId': 'pdxjdwui4', 'paymentMeth...</td>\n",
       "      <td>[{'transactionId': 'vx4cjc27', 'orderId': 'fbz...</td>\n",
       "    </tr>\n",
       "    <tr>\n",
       "      <th>4</th>\n",
       "      <td>{'customerEmail': 'uchen@malone.com', 'custome...</td>\n",
       "      <td>True</td>\n",
       "      <td>[{'orderId': '56h7iw', 'orderAmount': 71, 'ord...</td>\n",
       "      <td>[{'paymentMethodId': 'w1i1zq3rg', 'paymentMeth...</td>\n",
       "      <td>[{'transactionId': 'q8j3dgni', 'orderId': '56h...</td>\n",
       "    </tr>\n",
       "  </tbody>\n",
       "</table>\n",
       "</div>"
      ],
      "text/plain": [
       "                                            customer  fraudulent  \\\n",
       "0  {'customerEmail': 'josephhoward@yahoo.com', 'c...       False   \n",
       "1  {'customerEmail': 'evansjeffery@yahoo.com', 'c...        True   \n",
       "2  {'customerEmail': 'andersonwilliam@yahoo.com',...       False   \n",
       "3  {'customerEmail': 'rubenjuarez@yahoo.com', 'cu...       False   \n",
       "4  {'customerEmail': 'uchen@malone.com', 'custome...        True   \n",
       "\n",
       "                                              orders  \\\n",
       "0  [{'orderId': 'vjbdvd', 'orderAmount': 18, 'ord...   \n",
       "1  [{'orderId': 'nlghpa', 'orderAmount': 45, 'ord...   \n",
       "2  [{'orderId': 'yk34y2', 'orderAmount': 33, 'ord...   \n",
       "3  [{'orderId': 'fbz9ep', 'orderAmount': 34, 'ord...   \n",
       "4  [{'orderId': '56h7iw', 'orderAmount': 71, 'ord...   \n",
       "\n",
       "                                      paymentMethods  \\\n",
       "0  [{'paymentMethodId': 'wt07xm68b', 'paymentMeth...   \n",
       "1  [{'paymentMethodId': 'y3xp697jx', 'paymentMeth...   \n",
       "2  [{'paymentMethodId': '8pneoi03z', 'paymentMeth...   \n",
       "3  [{'paymentMethodId': 'pdxjdwui4', 'paymentMeth...   \n",
       "4  [{'paymentMethodId': 'w1i1zq3rg', 'paymentMeth...   \n",
       "\n",
       "                                        transactions  \n",
       "0  [{'transactionId': 'a9lcj51r', 'orderId': 'vjb...  \n",
       "1  [{'transactionId': '5mi94sfw', 'orderId': 'nlg...  \n",
       "2  [{'transactionId': 'q3lyvbza', 'orderId': 'yk3...  \n",
       "3  [{'transactionId': 'vx4cjc27', 'orderId': 'fbz...  \n",
       "4  [{'transactionId': 'q8j3dgni', 'orderId': '56h...  "
      ]
     },
     "execution_count": 4,
     "metadata": {},
     "output_type": "execute_result"
    }
   ],
   "source": [
    "data.head()"
   ]
  },
  {
   "cell_type": "code",
   "execution_count": 5,
   "metadata": {},
   "outputs": [
    {
     "data": {
      "text/html": [
       "<div>\n",
       "<style scoped>\n",
       "    .dataframe tbody tr th:only-of-type {\n",
       "        vertical-align: middle;\n",
       "    }\n",
       "\n",
       "    .dataframe tbody tr th {\n",
       "        vertical-align: top;\n",
       "    }\n",
       "\n",
       "    .dataframe thead th {\n",
       "        text-align: right;\n",
       "    }\n",
       "</style>\n",
       "<table border=\"1\" class=\"dataframe\">\n",
       "  <thead>\n",
       "    <tr style=\"text-align: right;\">\n",
       "      <th></th>\n",
       "      <th>customerBillingAddress</th>\n",
       "      <th>customerDevice</th>\n",
       "      <th>customerEmail</th>\n",
       "      <th>customerIPAddress</th>\n",
       "      <th>customerPhone</th>\n",
       "    </tr>\n",
       "  </thead>\n",
       "  <tbody>\n",
       "    <tr>\n",
       "      <th>0</th>\n",
       "      <td>5493 Jones Islands\\nBrownside, CA 51896</td>\n",
       "      <td>yyeiaxpltf82440jnb3v</td>\n",
       "      <td>josephhoward@yahoo.com</td>\n",
       "      <td>8.129.104.40</td>\n",
       "      <td>400-108-5415</td>\n",
       "    </tr>\n",
       "    <tr>\n",
       "      <th>1</th>\n",
       "      <td>356 Elizabeth Inlet Suite 120\\nPort Joshuabury...</td>\n",
       "      <td>r0jpm7xaeqqa3kr6mzum</td>\n",
       "      <td>evansjeffery@yahoo.com</td>\n",
       "      <td>219.173.211.202</td>\n",
       "      <td>1-788-091-7546</td>\n",
       "    </tr>\n",
       "    <tr>\n",
       "      <th>2</th>\n",
       "      <td>8478 Sean Ridges Apt. 441\\nDavisberg, PR 72250</td>\n",
       "      <td>4m7h5ipl1shyavt6vv2r</td>\n",
       "      <td>andersonwilliam@yahoo.com</td>\n",
       "      <td>67b7:3db8:67e0:3bea:b9d0:90c1:2b60:b9f0</td>\n",
       "      <td>024.420.0375</td>\n",
       "    </tr>\n",
       "    <tr>\n",
       "      <th>3</th>\n",
       "      <td>7769 Elizabeth Bridge Apt. 343\\nNortonstad, FM...</td>\n",
       "      <td>slovx60t0i558may4ks0</td>\n",
       "      <td>rubenjuarez@yahoo.com</td>\n",
       "      <td>95de:8565:5a66:792c:26e0:6cfb:7d87:11af</td>\n",
       "      <td>670.664.8168x94985</td>\n",
       "    </tr>\n",
       "    <tr>\n",
       "      <th>4</th>\n",
       "      <td>148 Russell Lodge Apt. 445\\nPort Jenniferside,...</td>\n",
       "      <td>j0pd24k5h8dl2fqu0cz4</td>\n",
       "      <td>uchen@malone.com</td>\n",
       "      <td>196.89.235.192</td>\n",
       "      <td>1-981-877-0870</td>\n",
       "    </tr>\n",
       "    <tr>\n",
       "      <th>5</th>\n",
       "      <td>65233 Hutchinson Mountains\\nMartinezside, OR 7...</td>\n",
       "      <td>hbww39m1wenbq4ymjhsx</td>\n",
       "      <td>robinsoncynthia@dunn.com</td>\n",
       "      <td>43.166.163.164</td>\n",
       "      <td>+65(5)8997489788</td>\n",
       "    </tr>\n",
       "    <tr>\n",
       "      <th>6</th>\n",
       "      <td>3960 Emily Fort\\nStaceytown, AR 21817-3325</td>\n",
       "      <td>up7afvce5v0omniqlevq</td>\n",
       "      <td>samuel15@saunders-rhodes.com</td>\n",
       "      <td>33.67.35.30</td>\n",
       "      <td>05045239487</td>\n",
       "    </tr>\n",
       "    <tr>\n",
       "      <th>7</th>\n",
       "      <td>484 Pamela Pass\\nLake Jessicaview, WI 12942-9074</td>\n",
       "      <td>rjb0adai34izqvys4938</td>\n",
       "      <td>johnlowery@gmail.com</td>\n",
       "      <td>212.144.68.190</td>\n",
       "      <td>044-642-9860</td>\n",
       "    </tr>\n",
       "    <tr>\n",
       "      <th>8</th>\n",
       "      <td>USNS Price\\nFPO AE 14661</td>\n",
       "      <td>yz4l2bgbvzra5eb5qcan</td>\n",
       "      <td>jameslandry@rodriguez.com</td>\n",
       "      <td>c899:ff67:6864:4365:def3:3023:655f:5181</td>\n",
       "      <td>1-885-168-1310x338</td>\n",
       "    </tr>\n",
       "    <tr>\n",
       "      <th>9</th>\n",
       "      <td>6974 Robertson Common Apt. 902\\nPort Juanside,...</td>\n",
       "      <td>6mpx027neyz6sh04n3ue</td>\n",
       "      <td>ubranch@rivera-parker.info</td>\n",
       "      <td>86.16.65.228</td>\n",
       "      <td>(772)964-8162x6310</td>\n",
       "    </tr>\n",
       "    <tr>\n",
       "      <th>10</th>\n",
       "      <td>27061 Wright Forks\\nCraigland, MN 59915</td>\n",
       "      <td>qmntgod0numz62gzbla7</td>\n",
       "      <td>bowenwilliam@yahoo.com</td>\n",
       "      <td>231.91.253.19</td>\n",
       "      <td>(128)248-4091x37789</td>\n",
       "    </tr>\n",
       "    <tr>\n",
       "      <th>11</th>\n",
       "      <td>46383 Matthew Track Apt. 220\\nRomanburgh, DC 9...</td>\n",
       "      <td>2ngkzu1idwxintmxwmgn</td>\n",
       "      <td>ksummers@hotmail.com</td>\n",
       "      <td>184.97.57.11</td>\n",
       "      <td>1-023-275-4692</td>\n",
       "    </tr>\n",
       "    <tr>\n",
       "      <th>12</th>\n",
       "      <td>67636 Renee Islands Suite 307\\nTeresaview, ND ...</td>\n",
       "      <td>j8cp1uydkuyza2eo0mir</td>\n",
       "      <td>christineklein@wright-boyd.org</td>\n",
       "      <td>4304:521a:e1c3:766b:21f3:ac3:4ab2:5a2</td>\n",
       "      <td>897-464-6425x941</td>\n",
       "    </tr>\n",
       "    <tr>\n",
       "      <th>13</th>\n",
       "      <td>7541 Olson Glens\\nBallshire, IL 29415</td>\n",
       "      <td>qsxqbn6qjxkni7f813qn</td>\n",
       "      <td>meganwalters@chavez.com</td>\n",
       "      <td>98.229.160.246</td>\n",
       "      <td>(522)133-8741x643</td>\n",
       "    </tr>\n",
       "    <tr>\n",
       "      <th>14</th>\n",
       "      <td>813 Miller Lakes\\nLake Christina, SD 29778-1298</td>\n",
       "      <td>lixwrlvcr4g5ht600dk9</td>\n",
       "      <td>caleb94@sutton.info</td>\n",
       "      <td>2efe:240f:cc33:306:8e47:b8d5:b466:f12a</td>\n",
       "      <td>07452086668</td>\n",
       "    </tr>\n",
       "    <tr>\n",
       "      <th>15</th>\n",
       "      <td>566 Courtney Stream\\nReedland, NH 84853</td>\n",
       "      <td>hmkn4nmfc5q5mgify2zw</td>\n",
       "      <td>gonzalesjackson@gmail.com</td>\n",
       "      <td>229.2.225.188</td>\n",
       "      <td>1-410-373-1228x129</td>\n",
       "    </tr>\n",
       "    <tr>\n",
       "      <th>16</th>\n",
       "      <td>812 Moss Radial Suite 844\\nNorth Patriciaburgh...</td>\n",
       "      <td>wb0uylp0rwy01x5j1jzd</td>\n",
       "      <td>dana09@yahoo.com</td>\n",
       "      <td>166.148.66.158</td>\n",
       "      <td>515.708.2280x105</td>\n",
       "    </tr>\n",
       "    <tr>\n",
       "      <th>17</th>\n",
       "      <td>6174 Nicholas Cliffs Suite 855\\nWebsterview, M...</td>\n",
       "      <td>cq5wya63n1w79o0hlnpm</td>\n",
       "      <td>alec27@bell.com</td>\n",
       "      <td>128.61.46.131</td>\n",
       "      <td>895-224-8246x9667</td>\n",
       "    </tr>\n",
       "    <tr>\n",
       "      <th>18</th>\n",
       "      <td>1750 Alicia Shoals Apt. 000\\nSouth Benjamin, N...</td>\n",
       "      <td>sj72s0k7wxdrxu3rcmba</td>\n",
       "      <td>juliecook@hotmail.com</td>\n",
       "      <td>61ba:a72b:5401:db1a:9833:d0da:254c:2369</td>\n",
       "      <td>1-412-734-7967x67388</td>\n",
       "    </tr>\n",
       "    <tr>\n",
       "      <th>19</th>\n",
       "      <td>34944 Glenn Mountain\\nSherryhaven, TN 36252</td>\n",
       "      <td>2vpovzopjoqppeqfa5nw</td>\n",
       "      <td>meganberry@clark.biz</td>\n",
       "      <td>73.182.31.59</td>\n",
       "      <td>1-991-846-6271x54037</td>\n",
       "    </tr>\n",
       "    <tr>\n",
       "      <th>20</th>\n",
       "      <td>238 Reeves Villages\\nLeslieton, SD 12318-4476</td>\n",
       "      <td>qx6nhdabeaj329zdri0o</td>\n",
       "      <td>psantiago@nelson.net</td>\n",
       "      <td>81.13.103.118</td>\n",
       "      <td>885.682.0863</td>\n",
       "    </tr>\n",
       "    <tr>\n",
       "      <th>21</th>\n",
       "      <td>357 Barbara Crossroad\\nJacobsburgh, WY 09289-9170</td>\n",
       "      <td>y3m3px7h46gor851y1pu</td>\n",
       "      <td>harrisnicholas@mitchell-hancock.com</td>\n",
       "      <td>58.13.30.104</td>\n",
       "      <td>(922)411-5121x98410</td>\n",
       "    </tr>\n",
       "    <tr>\n",
       "      <th>22</th>\n",
       "      <td>07078 Brent Ways Apt. 999\\nAlvarezshire, ND 82309</td>\n",
       "      <td>4hzaaor6es3iyuiavyio</td>\n",
       "      <td>davismike@hotmail.com</td>\n",
       "      <td>162.48.39.230</td>\n",
       "      <td>467-222-0933x910</td>\n",
       "    </tr>\n",
       "    <tr>\n",
       "      <th>23</th>\n",
       "      <td>13553 Michelle Freeway Apt. 290\\nTammyhaven, G...</td>\n",
       "      <td>webmbgi39hwejv3d90kt</td>\n",
       "      <td>guerramichael@hotmail.com</td>\n",
       "      <td>245.38.171.222</td>\n",
       "      <td>299-883-0904</td>\n",
       "    </tr>\n",
       "    <tr>\n",
       "      <th>24</th>\n",
       "      <td>23831 Adams Tunnel Suite 538\\nNorth David, NE ...</td>\n",
       "      <td>x5ts382m7jezato91fjz</td>\n",
       "      <td>natalie98@yahoo.com</td>\n",
       "      <td>89e:31aa:e9e2:90ea:aa00:4a8c:805c:20ea</td>\n",
       "      <td>02934317865</td>\n",
       "    </tr>\n",
       "    <tr>\n",
       "      <th>25</th>\n",
       "      <td>526 Ronald Cliffs\\nWest Christinaville, GU 76418</td>\n",
       "      <td>ybz490o0v5781808jtzw</td>\n",
       "      <td>karen54@mullins.biz</td>\n",
       "      <td>61.219.235.129</td>\n",
       "      <td>1-019-956-8013</td>\n",
       "    </tr>\n",
       "    <tr>\n",
       "      <th>26</th>\n",
       "      <td>304 Heather Fall\\nEast Christina, UT 45880-4522</td>\n",
       "      <td>bwgvb5w8dm6upvi7ucqc</td>\n",
       "      <td>avaldez@gmail.com</td>\n",
       "      <td>46.130.37.206</td>\n",
       "      <td>203-573-2041</td>\n",
       "    </tr>\n",
       "    <tr>\n",
       "      <th>27</th>\n",
       "      <td>Unit 0643 Box 8346\\nDPO AA 55632-6780</td>\n",
       "      <td>smxfahki83m4rgsvgvki</td>\n",
       "      <td>blackjoel@wright.com</td>\n",
       "      <td>9717:f390:29c6:8d60:aee7:a054:1b90:9493</td>\n",
       "      <td>621.591.0560</td>\n",
       "    </tr>\n",
       "    <tr>\n",
       "      <th>28</th>\n",
       "      <td>3764 Stanley Hollow\\nEast Catherine, CT 98470</td>\n",
       "      <td>0g6v7n9n8k4pekxpqj2e</td>\n",
       "      <td>abigail08@yahoo.com</td>\n",
       "      <td>72.251.102.162</td>\n",
       "      <td>650-489-7595x7901</td>\n",
       "    </tr>\n",
       "    <tr>\n",
       "      <th>29</th>\n",
       "      <td>372 Michael Club Suite 553\\nHerrerafort, MH 52953</td>\n",
       "      <td>myjxxvd3jfn1eymfy50n</td>\n",
       "      <td>catherine64@gmail.com</td>\n",
       "      <td>1289:d2a9:c65d:8fc7:7be4:129b:d7b:cf7b</td>\n",
       "      <td>563-396-2038x288</td>\n",
       "    </tr>\n",
       "    <tr>\n",
       "      <th>...</th>\n",
       "      <td>...</td>\n",
       "      <td>...</td>\n",
       "      <td>...</td>\n",
       "      <td>...</td>\n",
       "      <td>...</td>\n",
       "    </tr>\n",
       "    <tr>\n",
       "      <th>138</th>\n",
       "      <td>16855 Lopez Tunnel\\nPort Stephanieville, PW 58...</td>\n",
       "      <td>u4gxqno1iwgs4cn6502c</td>\n",
       "      <td>jenniferperry@hotmail.com</td>\n",
       "      <td>202.230.239.182</td>\n",
       "      <td>+27(2)4721167637</td>\n",
       "    </tr>\n",
       "    <tr>\n",
       "      <th>139</th>\n",
       "      <td>25653 Key Gateway\\nPort Robert, PA 64370</td>\n",
       "      <td>dgfa5pe2t45d1u6ox33l</td>\n",
       "      <td>bhorne@fuller-nelson.com</td>\n",
       "      <td>118e:7887:94b6:b2a7:d2ad:8f35:c241:3149</td>\n",
       "      <td>1-512-954-5541</td>\n",
       "    </tr>\n",
       "    <tr>\n",
       "      <th>140</th>\n",
       "      <td>044 Ronnie Run\\nSouth Dawn, CA 49202-3034</td>\n",
       "      <td>o9cdi8b4zhrzzvp0hl2f</td>\n",
       "      <td>lsanchez@hotmail.com</td>\n",
       "      <td>49.219.239.140</td>\n",
       "      <td>00256720158</td>\n",
       "    </tr>\n",
       "    <tr>\n",
       "      <th>141</th>\n",
       "      <td>5156 Greene Park Apt. 748\\nNew Sandra, CA 1480...</td>\n",
       "      <td>zbn9it3s7yl69bjtrnqf</td>\n",
       "      <td>christinemills@mcgee.com</td>\n",
       "      <td>45.203.99.249</td>\n",
       "      <td>(651)355-4709</td>\n",
       "    </tr>\n",
       "    <tr>\n",
       "      <th>142</th>\n",
       "      <td>69632 Baker Prairie Suite 013\\nGonzalezhaven, ...</td>\n",
       "      <td>gjieqcwj7nq91qkgdqb1</td>\n",
       "      <td>cuevasvicki@gmail.com</td>\n",
       "      <td>89f4:de6f:d732:11dd:c56:c6e1:ce7a:d888</td>\n",
       "      <td>347-432-4171</td>\n",
       "    </tr>\n",
       "    <tr>\n",
       "      <th>143</th>\n",
       "      <td>Unit 6719 Box 6044\\nDPO AE 33534</td>\n",
       "      <td>72stamnugxuz9ls1xx98</td>\n",
       "      <td>mitchellgriffith@yahoo.com</td>\n",
       "      <td>158.185.147.61</td>\n",
       "      <td>1-321-386-6855x0101</td>\n",
       "    </tr>\n",
       "    <tr>\n",
       "      <th>144</th>\n",
       "      <td>77436 Denise Key Suite 828\\nMayschester, AR 65...</td>\n",
       "      <td>3pfhcvbn8itarkhxl087</td>\n",
       "      <td>gwilcox@hotmail.com</td>\n",
       "      <td>168.56.122.190</td>\n",
       "      <td>1-114-728-2835x715</td>\n",
       "    </tr>\n",
       "    <tr>\n",
       "      <th>145</th>\n",
       "      <td>PSC 9769, Box 5820\\nAPO AP 17294</td>\n",
       "      <td>1597k0yfivb94139vcj0</td>\n",
       "      <td>victorgarcia@gmail.com</td>\n",
       "      <td>184.74.109.237</td>\n",
       "      <td>937-523-6702x7281</td>\n",
       "    </tr>\n",
       "    <tr>\n",
       "      <th>146</th>\n",
       "      <td>603 Sophia Flat Suite 158\\nSouth Wandaland, PR...</td>\n",
       "      <td>55uutypnlt0dve5gnzpx</td>\n",
       "      <td>brittany60@yahoo.com</td>\n",
       "      <td>174.86.116.243</td>\n",
       "      <td>(172)959-5151</td>\n",
       "    </tr>\n",
       "    <tr>\n",
       "      <th>147</th>\n",
       "      <td>5434 Olivia Junctions Suite 109\\nCrosbymouth, ...</td>\n",
       "      <td>vq9wb7q19vwuirk37dcn</td>\n",
       "      <td>fharris@hotmail.com</td>\n",
       "      <td>1a1c:b6f1:5c57:e9b8:28c0:edc0:9935:e55a</td>\n",
       "      <td>828.921.8126</td>\n",
       "    </tr>\n",
       "    <tr>\n",
       "      <th>148</th>\n",
       "      <td>03028 Brown Spring Suite 348\\nElliottchester, ...</td>\n",
       "      <td>qh7i8ad23hd5vosiuj5j</td>\n",
       "      <td>mercedesfinley@roman.org</td>\n",
       "      <td>f15:32d4:97fb:c211:3d4e:a471:af9c:6c34</td>\n",
       "      <td>569-710-0646x4095</td>\n",
       "    </tr>\n",
       "    <tr>\n",
       "      <th>149</th>\n",
       "      <td>8765 Dyer Alley Apt. 682\\nDominguezburgh, ME 7...</td>\n",
       "      <td>96ikyqg56kakwa4eix4q</td>\n",
       "      <td>davidwalker@hotmail.com</td>\n",
       "      <td>e634:6f95:c48d:8db4:8e95:dfc8:7225:1e0a</td>\n",
       "      <td>02877590244</td>\n",
       "    </tr>\n",
       "    <tr>\n",
       "      <th>150</th>\n",
       "      <td>40185 Kim Motorway\\nShawchester, IL 78234-1556</td>\n",
       "      <td>xvxnwq1qs3gglt4k4g5t</td>\n",
       "      <td>philipnelson@dean.com</td>\n",
       "      <td>ea1d:c7d:1e39:a10d:d15f:6430:d2a6:aaf</td>\n",
       "      <td>534-301-8809</td>\n",
       "    </tr>\n",
       "    <tr>\n",
       "      <th>151</th>\n",
       "      <td>12350 Nicholas Greens\\nLawsonborough, NC 70237...</td>\n",
       "      <td>j3a0155srqw0yeqvbgps</td>\n",
       "      <td>1yf0@jedyz63t</td>\n",
       "      <td>1fe2:1fa3:2a6f:845d:1037:2dac:2831:9d50</td>\n",
       "      <td>463-609-3475</td>\n",
       "    </tr>\n",
       "    <tr>\n",
       "      <th>152</th>\n",
       "      <td>00373 Hicks Keys Suite 407\\nMillerside, HI 985...</td>\n",
       "      <td>spoo36hycxgbo0y2tap7</td>\n",
       "      <td>thomasryan@conrad.net</td>\n",
       "      <td>3.225.227.70</td>\n",
       "      <td>1-192-434-2783</td>\n",
       "    </tr>\n",
       "    <tr>\n",
       "      <th>153</th>\n",
       "      <td>0008 Jessica Stream\\nMcbridetown, MH 04017</td>\n",
       "      <td>mdoe6wib243y09uaj95z</td>\n",
       "      <td>kwalsh@lopez-gomez.biz</td>\n",
       "      <td>3162:1f06:9114:56d1:f5e8:bf3a:6ad0:b6f2</td>\n",
       "      <td>04103378280</td>\n",
       "    </tr>\n",
       "    <tr>\n",
       "      <th>154</th>\n",
       "      <td>PSC 1505, Box 0924\\nAPO AP 49055</td>\n",
       "      <td>9ycz6r0ulpqtc04qxfke</td>\n",
       "      <td>martinezlori@gmail.com</td>\n",
       "      <td>d04c:1016:1b00:8a18:d9fc:5455:cae3:b97a</td>\n",
       "      <td>353.413.2223x82475</td>\n",
       "    </tr>\n",
       "    <tr>\n",
       "      <th>155</th>\n",
       "      <td>687 Rogers Bridge Suite 780\\nValdezburgh, IN 2...</td>\n",
       "      <td>6qy6oa3nqutsyyxzc54c</td>\n",
       "      <td>johnlowery@gmail.com</td>\n",
       "      <td>f259:657f:f329:2fca:c06c:8b57:d6ac:2380</td>\n",
       "      <td>076-099-0630x72770</td>\n",
       "    </tr>\n",
       "    <tr>\n",
       "      <th>156</th>\n",
       "      <td>904 James Route Suite 595\\nLake Ruth, CO 66976</td>\n",
       "      <td>felexq5xniffmhhlqdqm</td>\n",
       "      <td>stevehernandez@gmail.com</td>\n",
       "      <td>601d:b1f3:1a48:e0ef:1452:906f:21dc:b526</td>\n",
       "      <td>716-379-6345</td>\n",
       "    </tr>\n",
       "    <tr>\n",
       "      <th>157</th>\n",
       "      <td>6698 David Squares Apt. 540\\nWestburgh, MA 77937</td>\n",
       "      <td>lu49z4dhold8niozpl4w</td>\n",
       "      <td>daniel98@lamb.com</td>\n",
       "      <td>d6d4:7645:ca31:dba3:42b0:c89a:d065:d67d</td>\n",
       "      <td>758.182.1357x89421</td>\n",
       "    </tr>\n",
       "    <tr>\n",
       "      <th>158</th>\n",
       "      <td>664 Maurice Row Suite 634\\nNew Jodi, OR 56525</td>\n",
       "      <td>2k850f1rbwvju71sbhqp</td>\n",
       "      <td>ujackson@harris.com</td>\n",
       "      <td>99.149.12.193</td>\n",
       "      <td>852-231-3642x738</td>\n",
       "    </tr>\n",
       "    <tr>\n",
       "      <th>159</th>\n",
       "      <td>233 Jessica Lights\\nPort Sonya, SC 47511</td>\n",
       "      <td>b054slok65d4k1t01u4a</td>\n",
       "      <td>brittanyhicks@jones.com</td>\n",
       "      <td>89.73.189.96</td>\n",
       "      <td>579-193-1785x676</td>\n",
       "    </tr>\n",
       "    <tr>\n",
       "      <th>160</th>\n",
       "      <td>391 Rogers Flats Apt. 287\\nNorth Rickchester, ...</td>\n",
       "      <td>vc71dbmrdaz78jgi7nhl</td>\n",
       "      <td>deborah38@yahoo.com</td>\n",
       "      <td>8f3c:9e11:63b4:73bb:20d1:86c7:ab70:2e04</td>\n",
       "      <td>06498402936</td>\n",
       "    </tr>\n",
       "    <tr>\n",
       "      <th>161</th>\n",
       "      <td>55197 Jeffrey Burgs Suite 700\\nGardnerport, VA...</td>\n",
       "      <td>4gfo1e3xeirjanhwko92</td>\n",
       "      <td>andre74@patrick-decker.com</td>\n",
       "      <td>d89c:db0:5ff9:a150:9e6c:482d:c900:fb33</td>\n",
       "      <td>150-073-8610</td>\n",
       "    </tr>\n",
       "    <tr>\n",
       "      <th>162</th>\n",
       "      <td>6223 Cheyenne Villages Suite 751\\nCoryborough,...</td>\n",
       "      <td>84z3gd4fiabz488ybv9p</td>\n",
       "      <td>patrickcalderon@russo.net</td>\n",
       "      <td>2be:a4d5:eb39:fa22:2650:83d5:917f:5f23</td>\n",
       "      <td>444-358-6570x947</td>\n",
       "    </tr>\n",
       "    <tr>\n",
       "      <th>163</th>\n",
       "      <td>829 Ramirez Dam Suite 648\\nGatesview, OR 55669...</td>\n",
       "      <td>ecu7ezz0ue67v3fce1o3</td>\n",
       "      <td>mitchellvickie@brewer-jones.com</td>\n",
       "      <td>181.90.104.120</td>\n",
       "      <td>313-124-3836x3528</td>\n",
       "    </tr>\n",
       "    <tr>\n",
       "      <th>164</th>\n",
       "      <td>9472 Pacheco Islands Suite 940\\nDrewburgh, AZ ...</td>\n",
       "      <td>xgv918sclaz40qlp2fee</td>\n",
       "      <td>sbrown@hughes.biz</td>\n",
       "      <td>16.166.2.0</td>\n",
       "      <td>(250)632-6631x02499</td>\n",
       "    </tr>\n",
       "    <tr>\n",
       "      <th>165</th>\n",
       "      <td>548 Bryant Inlet\\nVeronicaside, OK 00522</td>\n",
       "      <td>969zz9zdj8z4gns4sx5p</td>\n",
       "      <td>johnlowery@gmail.com</td>\n",
       "      <td>f82c:811f:8a02:e2d6:79b:fcaa:42de:570b</td>\n",
       "      <td>635.676.0955x524</td>\n",
       "    </tr>\n",
       "    <tr>\n",
       "      <th>166</th>\n",
       "      <td>16953 Jennifer Springs\\nKathybury, IL 02095-3215</td>\n",
       "      <td>navessqcnmc9csfjn5cj</td>\n",
       "      <td>ethompson@jackson-sanders.com</td>\n",
       "      <td>203.246.172.244</td>\n",
       "      <td>962.300.2250</td>\n",
       "    </tr>\n",
       "    <tr>\n",
       "      <th>167</th>\n",
       "      <td>130 Kimberly Junctions\\nEricmouth, KS 59756-2919</td>\n",
       "      <td>lu4fgcug8dr0dwbcuui1</td>\n",
       "      <td>dawn05@tucker-brown.com</td>\n",
       "      <td>132.132.95.33</td>\n",
       "      <td>(089)703-7360x8848</td>\n",
       "    </tr>\n",
       "  </tbody>\n",
       "</table>\n",
       "<p>168 rows × 5 columns</p>\n",
       "</div>"
      ],
      "text/plain": [
       "                                customerBillingAddress        customerDevice  \\\n",
       "0              5493 Jones Islands\\nBrownside, CA 51896  yyeiaxpltf82440jnb3v   \n",
       "1    356 Elizabeth Inlet Suite 120\\nPort Joshuabury...  r0jpm7xaeqqa3kr6mzum   \n",
       "2       8478 Sean Ridges Apt. 441\\nDavisberg, PR 72250  4m7h5ipl1shyavt6vv2r   \n",
       "3    7769 Elizabeth Bridge Apt. 343\\nNortonstad, FM...  slovx60t0i558may4ks0   \n",
       "4    148 Russell Lodge Apt. 445\\nPort Jenniferside,...  j0pd24k5h8dl2fqu0cz4   \n",
       "5    65233 Hutchinson Mountains\\nMartinezside, OR 7...  hbww39m1wenbq4ymjhsx   \n",
       "6           3960 Emily Fort\\nStaceytown, AR 21817-3325  up7afvce5v0omniqlevq   \n",
       "7     484 Pamela Pass\\nLake Jessicaview, WI 12942-9074  rjb0adai34izqvys4938   \n",
       "8                             USNS Price\\nFPO AE 14661  yz4l2bgbvzra5eb5qcan   \n",
       "9    6974 Robertson Common Apt. 902\\nPort Juanside,...  6mpx027neyz6sh04n3ue   \n",
       "10             27061 Wright Forks\\nCraigland, MN 59915  qmntgod0numz62gzbla7   \n",
       "11   46383 Matthew Track Apt. 220\\nRomanburgh, DC 9...  2ngkzu1idwxintmxwmgn   \n",
       "12   67636 Renee Islands Suite 307\\nTeresaview, ND ...  j8cp1uydkuyza2eo0mir   \n",
       "13               7541 Olson Glens\\nBallshire, IL 29415  qsxqbn6qjxkni7f813qn   \n",
       "14     813 Miller Lakes\\nLake Christina, SD 29778-1298  lixwrlvcr4g5ht600dk9   \n",
       "15             566 Courtney Stream\\nReedland, NH 84853  hmkn4nmfc5q5mgify2zw   \n",
       "16   812 Moss Radial Suite 844\\nNorth Patriciaburgh...  wb0uylp0rwy01x5j1jzd   \n",
       "17   6174 Nicholas Cliffs Suite 855\\nWebsterview, M...  cq5wya63n1w79o0hlnpm   \n",
       "18   1750 Alicia Shoals Apt. 000\\nSouth Benjamin, N...  sj72s0k7wxdrxu3rcmba   \n",
       "19         34944 Glenn Mountain\\nSherryhaven, TN 36252  2vpovzopjoqppeqfa5nw   \n",
       "20       238 Reeves Villages\\nLeslieton, SD 12318-4476  qx6nhdabeaj329zdri0o   \n",
       "21   357 Barbara Crossroad\\nJacobsburgh, WY 09289-9170  y3m3px7h46gor851y1pu   \n",
       "22   07078 Brent Ways Apt. 999\\nAlvarezshire, ND 82309  4hzaaor6es3iyuiavyio   \n",
       "23   13553 Michelle Freeway Apt. 290\\nTammyhaven, G...  webmbgi39hwejv3d90kt   \n",
       "24   23831 Adams Tunnel Suite 538\\nNorth David, NE ...  x5ts382m7jezato91fjz   \n",
       "25    526 Ronald Cliffs\\nWest Christinaville, GU 76418  ybz490o0v5781808jtzw   \n",
       "26     304 Heather Fall\\nEast Christina, UT 45880-4522  bwgvb5w8dm6upvi7ucqc   \n",
       "27               Unit 0643 Box 8346\\nDPO AA 55632-6780  smxfahki83m4rgsvgvki   \n",
       "28       3764 Stanley Hollow\\nEast Catherine, CT 98470  0g6v7n9n8k4pekxpqj2e   \n",
       "29   372 Michael Club Suite 553\\nHerrerafort, MH 52953  myjxxvd3jfn1eymfy50n   \n",
       "..                                                 ...                   ...   \n",
       "138  16855 Lopez Tunnel\\nPort Stephanieville, PW 58...  u4gxqno1iwgs4cn6502c   \n",
       "139           25653 Key Gateway\\nPort Robert, PA 64370  dgfa5pe2t45d1u6ox33l   \n",
       "140          044 Ronnie Run\\nSouth Dawn, CA 49202-3034  o9cdi8b4zhrzzvp0hl2f   \n",
       "141  5156 Greene Park Apt. 748\\nNew Sandra, CA 1480...  zbn9it3s7yl69bjtrnqf   \n",
       "142  69632 Baker Prairie Suite 013\\nGonzalezhaven, ...  gjieqcwj7nq91qkgdqb1   \n",
       "143                   Unit 6719 Box 6044\\nDPO AE 33534  72stamnugxuz9ls1xx98   \n",
       "144  77436 Denise Key Suite 828\\nMayschester, AR 65...  3pfhcvbn8itarkhxl087   \n",
       "145                   PSC 9769, Box 5820\\nAPO AP 17294  1597k0yfivb94139vcj0   \n",
       "146  603 Sophia Flat Suite 158\\nSouth Wandaland, PR...  55uutypnlt0dve5gnzpx   \n",
       "147  5434 Olivia Junctions Suite 109\\nCrosbymouth, ...  vq9wb7q19vwuirk37dcn   \n",
       "148  03028 Brown Spring Suite 348\\nElliottchester, ...  qh7i8ad23hd5vosiuj5j   \n",
       "149  8765 Dyer Alley Apt. 682\\nDominguezburgh, ME 7...  96ikyqg56kakwa4eix4q   \n",
       "150     40185 Kim Motorway\\nShawchester, IL 78234-1556  xvxnwq1qs3gglt4k4g5t   \n",
       "151  12350 Nicholas Greens\\nLawsonborough, NC 70237...  j3a0155srqw0yeqvbgps   \n",
       "152  00373 Hicks Keys Suite 407\\nMillerside, HI 985...  spoo36hycxgbo0y2tap7   \n",
       "153         0008 Jessica Stream\\nMcbridetown, MH 04017  mdoe6wib243y09uaj95z   \n",
       "154                   PSC 1505, Box 0924\\nAPO AP 49055  9ycz6r0ulpqtc04qxfke   \n",
       "155  687 Rogers Bridge Suite 780\\nValdezburgh, IN 2...  6qy6oa3nqutsyyxzc54c   \n",
       "156     904 James Route Suite 595\\nLake Ruth, CO 66976  felexq5xniffmhhlqdqm   \n",
       "157   6698 David Squares Apt. 540\\nWestburgh, MA 77937  lu49z4dhold8niozpl4w   \n",
       "158      664 Maurice Row Suite 634\\nNew Jodi, OR 56525  2k850f1rbwvju71sbhqp   \n",
       "159           233 Jessica Lights\\nPort Sonya, SC 47511  b054slok65d4k1t01u4a   \n",
       "160  391 Rogers Flats Apt. 287\\nNorth Rickchester, ...  vc71dbmrdaz78jgi7nhl   \n",
       "161  55197 Jeffrey Burgs Suite 700\\nGardnerport, VA...  4gfo1e3xeirjanhwko92   \n",
       "162  6223 Cheyenne Villages Suite 751\\nCoryborough,...  84z3gd4fiabz488ybv9p   \n",
       "163  829 Ramirez Dam Suite 648\\nGatesview, OR 55669...  ecu7ezz0ue67v3fce1o3   \n",
       "164  9472 Pacheco Islands Suite 940\\nDrewburgh, AZ ...  xgv918sclaz40qlp2fee   \n",
       "165           548 Bryant Inlet\\nVeronicaside, OK 00522  969zz9zdj8z4gns4sx5p   \n",
       "166   16953 Jennifer Springs\\nKathybury, IL 02095-3215  navessqcnmc9csfjn5cj   \n",
       "167   130 Kimberly Junctions\\nEricmouth, KS 59756-2919  lu4fgcug8dr0dwbcuui1   \n",
       "\n",
       "                           customerEmail  \\\n",
       "0                 josephhoward@yahoo.com   \n",
       "1                 evansjeffery@yahoo.com   \n",
       "2              andersonwilliam@yahoo.com   \n",
       "3                  rubenjuarez@yahoo.com   \n",
       "4                       uchen@malone.com   \n",
       "5               robinsoncynthia@dunn.com   \n",
       "6           samuel15@saunders-rhodes.com   \n",
       "7                   johnlowery@gmail.com   \n",
       "8              jameslandry@rodriguez.com   \n",
       "9             ubranch@rivera-parker.info   \n",
       "10                bowenwilliam@yahoo.com   \n",
       "11                  ksummers@hotmail.com   \n",
       "12        christineklein@wright-boyd.org   \n",
       "13               meganwalters@chavez.com   \n",
       "14                   caleb94@sutton.info   \n",
       "15             gonzalesjackson@gmail.com   \n",
       "16                      dana09@yahoo.com   \n",
       "17                       alec27@bell.com   \n",
       "18                 juliecook@hotmail.com   \n",
       "19                  meganberry@clark.biz   \n",
       "20                  psantiago@nelson.net   \n",
       "21   harrisnicholas@mitchell-hancock.com   \n",
       "22                 davismike@hotmail.com   \n",
       "23             guerramichael@hotmail.com   \n",
       "24                   natalie98@yahoo.com   \n",
       "25                   karen54@mullins.biz   \n",
       "26                     avaldez@gmail.com   \n",
       "27                  blackjoel@wright.com   \n",
       "28                   abigail08@yahoo.com   \n",
       "29                 catherine64@gmail.com   \n",
       "..                                   ...   \n",
       "138            jenniferperry@hotmail.com   \n",
       "139             bhorne@fuller-nelson.com   \n",
       "140                 lsanchez@hotmail.com   \n",
       "141             christinemills@mcgee.com   \n",
       "142                cuevasvicki@gmail.com   \n",
       "143           mitchellgriffith@yahoo.com   \n",
       "144                  gwilcox@hotmail.com   \n",
       "145               victorgarcia@gmail.com   \n",
       "146                 brittany60@yahoo.com   \n",
       "147                  fharris@hotmail.com   \n",
       "148             mercedesfinley@roman.org   \n",
       "149              davidwalker@hotmail.com   \n",
       "150                philipnelson@dean.com   \n",
       "151                        1yf0@jedyz63t   \n",
       "152                thomasryan@conrad.net   \n",
       "153               kwalsh@lopez-gomez.biz   \n",
       "154               martinezlori@gmail.com   \n",
       "155                 johnlowery@gmail.com   \n",
       "156             stevehernandez@gmail.com   \n",
       "157                    daniel98@lamb.com   \n",
       "158                  ujackson@harris.com   \n",
       "159              brittanyhicks@jones.com   \n",
       "160                  deborah38@yahoo.com   \n",
       "161           andre74@patrick-decker.com   \n",
       "162            patrickcalderon@russo.net   \n",
       "163      mitchellvickie@brewer-jones.com   \n",
       "164                    sbrown@hughes.biz   \n",
       "165                 johnlowery@gmail.com   \n",
       "166        ethompson@jackson-sanders.com   \n",
       "167              dawn05@tucker-brown.com   \n",
       "\n",
       "                           customerIPAddress         customerPhone  \n",
       "0                               8.129.104.40          400-108-5415  \n",
       "1                            219.173.211.202        1-788-091-7546  \n",
       "2    67b7:3db8:67e0:3bea:b9d0:90c1:2b60:b9f0          024.420.0375  \n",
       "3    95de:8565:5a66:792c:26e0:6cfb:7d87:11af    670.664.8168x94985  \n",
       "4                             196.89.235.192        1-981-877-0870  \n",
       "5                             43.166.163.164      +65(5)8997489788  \n",
       "6                                33.67.35.30           05045239487  \n",
       "7                             212.144.68.190          044-642-9860  \n",
       "8    c899:ff67:6864:4365:def3:3023:655f:5181    1-885-168-1310x338  \n",
       "9                               86.16.65.228    (772)964-8162x6310  \n",
       "10                             231.91.253.19   (128)248-4091x37789  \n",
       "11                              184.97.57.11        1-023-275-4692  \n",
       "12     4304:521a:e1c3:766b:21f3:ac3:4ab2:5a2      897-464-6425x941  \n",
       "13                            98.229.160.246     (522)133-8741x643  \n",
       "14    2efe:240f:cc33:306:8e47:b8d5:b466:f12a           07452086668  \n",
       "15                             229.2.225.188    1-410-373-1228x129  \n",
       "16                            166.148.66.158      515.708.2280x105  \n",
       "17                             128.61.46.131     895-224-8246x9667  \n",
       "18   61ba:a72b:5401:db1a:9833:d0da:254c:2369  1-412-734-7967x67388  \n",
       "19                              73.182.31.59  1-991-846-6271x54037  \n",
       "20                             81.13.103.118          885.682.0863  \n",
       "21                              58.13.30.104   (922)411-5121x98410  \n",
       "22                             162.48.39.230      467-222-0933x910  \n",
       "23                            245.38.171.222          299-883-0904  \n",
       "24    89e:31aa:e9e2:90ea:aa00:4a8c:805c:20ea           02934317865  \n",
       "25                            61.219.235.129        1-019-956-8013  \n",
       "26                             46.130.37.206          203-573-2041  \n",
       "27   9717:f390:29c6:8d60:aee7:a054:1b90:9493          621.591.0560  \n",
       "28                            72.251.102.162     650-489-7595x7901  \n",
       "29    1289:d2a9:c65d:8fc7:7be4:129b:d7b:cf7b      563-396-2038x288  \n",
       "..                                       ...                   ...  \n",
       "138                          202.230.239.182      +27(2)4721167637  \n",
       "139  118e:7887:94b6:b2a7:d2ad:8f35:c241:3149        1-512-954-5541  \n",
       "140                           49.219.239.140           00256720158  \n",
       "141                            45.203.99.249         (651)355-4709  \n",
       "142   89f4:de6f:d732:11dd:c56:c6e1:ce7a:d888          347-432-4171  \n",
       "143                           158.185.147.61   1-321-386-6855x0101  \n",
       "144                           168.56.122.190    1-114-728-2835x715  \n",
       "145                           184.74.109.237     937-523-6702x7281  \n",
       "146                           174.86.116.243         (172)959-5151  \n",
       "147  1a1c:b6f1:5c57:e9b8:28c0:edc0:9935:e55a          828.921.8126  \n",
       "148   f15:32d4:97fb:c211:3d4e:a471:af9c:6c34     569-710-0646x4095  \n",
       "149  e634:6f95:c48d:8db4:8e95:dfc8:7225:1e0a           02877590244  \n",
       "150    ea1d:c7d:1e39:a10d:d15f:6430:d2a6:aaf          534-301-8809  \n",
       "151  1fe2:1fa3:2a6f:845d:1037:2dac:2831:9d50          463-609-3475  \n",
       "152                             3.225.227.70        1-192-434-2783  \n",
       "153  3162:1f06:9114:56d1:f5e8:bf3a:6ad0:b6f2           04103378280  \n",
       "154  d04c:1016:1b00:8a18:d9fc:5455:cae3:b97a    353.413.2223x82475  \n",
       "155  f259:657f:f329:2fca:c06c:8b57:d6ac:2380    076-099-0630x72770  \n",
       "156  601d:b1f3:1a48:e0ef:1452:906f:21dc:b526          716-379-6345  \n",
       "157  d6d4:7645:ca31:dba3:42b0:c89a:d065:d67d    758.182.1357x89421  \n",
       "158                            99.149.12.193      852-231-3642x738  \n",
       "159                             89.73.189.96      579-193-1785x676  \n",
       "160  8f3c:9e11:63b4:73bb:20d1:86c7:ab70:2e04           06498402936  \n",
       "161   d89c:db0:5ff9:a150:9e6c:482d:c900:fb33          150-073-8610  \n",
       "162   2be:a4d5:eb39:fa22:2650:83d5:917f:5f23      444-358-6570x947  \n",
       "163                           181.90.104.120     313-124-3836x3528  \n",
       "164                               16.166.2.0   (250)632-6631x02499  \n",
       "165   f82c:811f:8a02:e2d6:79b:fcaa:42de:570b      635.676.0955x524  \n",
       "166                          203.246.172.244          962.300.2250  \n",
       "167                            132.132.95.33    (089)703-7360x8848  \n",
       "\n",
       "[168 rows x 5 columns]"
      ]
     },
     "execution_count": 5,
     "metadata": {},
     "output_type": "execute_result"
    }
   ],
   "source": [
    "cust = json_normalize(data.customer)\n",
    "cust"
   ]
  },
  {
   "cell_type": "code",
   "execution_count": 6,
   "metadata": {},
   "outputs": [
    {
     "data": {
      "text/html": [
       "<div>\n",
       "<style scoped>\n",
       "    .dataframe tbody tr th:only-of-type {\n",
       "        vertical-align: middle;\n",
       "    }\n",
       "\n",
       "    .dataframe tbody tr th {\n",
       "        vertical-align: top;\n",
       "    }\n",
       "\n",
       "    .dataframe thead th {\n",
       "        text-align: right;\n",
       "    }\n",
       "</style>\n",
       "<table border=\"1\" class=\"dataframe\">\n",
       "  <thead>\n",
       "    <tr style=\"text-align: right;\">\n",
       "      <th></th>\n",
       "      <th>orders</th>\n",
       "    </tr>\n",
       "  </thead>\n",
       "  <tbody>\n",
       "    <tr>\n",
       "      <th>0</th>\n",
       "      <td>[{'orderId': 'vjbdvd', 'orderAmount': 18, 'ord...</td>\n",
       "    </tr>\n",
       "    <tr>\n",
       "      <th>1</th>\n",
       "      <td>[{'orderId': 'nlghpa', 'orderAmount': 45, 'ord...</td>\n",
       "    </tr>\n",
       "    <tr>\n",
       "      <th>2</th>\n",
       "      <td>[{'orderId': 'yk34y2', 'orderAmount': 33, 'ord...</td>\n",
       "    </tr>\n",
       "    <tr>\n",
       "      <th>3</th>\n",
       "      <td>[{'orderId': 'fbz9ep', 'orderAmount': 34, 'ord...</td>\n",
       "    </tr>\n",
       "    <tr>\n",
       "      <th>4</th>\n",
       "      <td>[{'orderId': '56h7iw', 'orderAmount': 71, 'ord...</td>\n",
       "    </tr>\n",
       "  </tbody>\n",
       "</table>\n",
       "</div>"
      ],
      "text/plain": [
       "                                              orders\n",
       "0  [{'orderId': 'vjbdvd', 'orderAmount': 18, 'ord...\n",
       "1  [{'orderId': 'nlghpa', 'orderAmount': 45, 'ord...\n",
       "2  [{'orderId': 'yk34y2', 'orderAmount': 33, 'ord...\n",
       "3  [{'orderId': 'fbz9ep', 'orderAmount': 34, 'ord...\n",
       "4  [{'orderId': '56h7iw', 'orderAmount': 71, 'ord..."
      ]
     },
     "execution_count": 6,
     "metadata": {},
     "output_type": "execute_result"
    }
   ],
   "source": [
    "orders = pd.DataFrame(data.orders)\n",
    "orders.head()"
   ]
  },
  {
   "cell_type": "code",
   "execution_count": 7,
   "metadata": {},
   "outputs": [],
   "source": [
    "orderAmounts=[]\n",
    "orders=[]\n",
    "def split_orders(list1):\n",
    "    ordAmt=0\n",
    "    NoofOrders=0\n",
    "    for i in list1:\n",
    "        for j in i:\n",
    "            for k,v in j.items():\n",
    "                if(k=='orderAmount'):\n",
    "                    ordAmt += int(v)\n",
    "                    NoofOrders+=1\n",
    "                    #print(k,':',v)\n",
    "        orderAmounts.append(ordAmt)\n",
    "        orders.append(NoofOrders)\n",
    "        #print(\"TOtal orders:\",NoofOrders,\"  Total\",ordAmt)"
   ]
  },
  {
   "cell_type": "code",
   "execution_count": 8,
   "metadata": {},
   "outputs": [],
   "source": [
    "split_orders(data.orders)"
   ]
  },
  {
   "cell_type": "code",
   "execution_count": 9,
   "metadata": {},
   "outputs": [
    {
     "data": {
      "text/html": [
       "<div>\n",
       "<style scoped>\n",
       "    .dataframe tbody tr th:only-of-type {\n",
       "        vertical-align: middle;\n",
       "    }\n",
       "\n",
       "    .dataframe tbody tr th {\n",
       "        vertical-align: top;\n",
       "    }\n",
       "\n",
       "    .dataframe thead th {\n",
       "        text-align: right;\n",
       "    }\n",
       "</style>\n",
       "<table border=\"1\" class=\"dataframe\">\n",
       "  <thead>\n",
       "    <tr style=\"text-align: right;\">\n",
       "      <th></th>\n",
       "      <th>paymentMethods</th>\n",
       "    </tr>\n",
       "  </thead>\n",
       "  <tbody>\n",
       "    <tr>\n",
       "      <th>0</th>\n",
       "      <td>[{'paymentMethodId': 'wt07xm68b', 'paymentMeth...</td>\n",
       "    </tr>\n",
       "    <tr>\n",
       "      <th>1</th>\n",
       "      <td>[{'paymentMethodId': 'y3xp697jx', 'paymentMeth...</td>\n",
       "    </tr>\n",
       "    <tr>\n",
       "      <th>2</th>\n",
       "      <td>[{'paymentMethodId': '8pneoi03z', 'paymentMeth...</td>\n",
       "    </tr>\n",
       "    <tr>\n",
       "      <th>3</th>\n",
       "      <td>[{'paymentMethodId': 'pdxjdwui4', 'paymentMeth...</td>\n",
       "    </tr>\n",
       "    <tr>\n",
       "      <th>4</th>\n",
       "      <td>[{'paymentMethodId': 'w1i1zq3rg', 'paymentMeth...</td>\n",
       "    </tr>\n",
       "  </tbody>\n",
       "</table>\n",
       "</div>"
      ],
      "text/plain": [
       "                                      paymentMethods\n",
       "0  [{'paymentMethodId': 'wt07xm68b', 'paymentMeth...\n",
       "1  [{'paymentMethodId': 'y3xp697jx', 'paymentMeth...\n",
       "2  [{'paymentMethodId': '8pneoi03z', 'paymentMeth...\n",
       "3  [{'paymentMethodId': 'pdxjdwui4', 'paymentMeth...\n",
       "4  [{'paymentMethodId': 'w1i1zq3rg', 'paymentMeth..."
      ]
     },
     "execution_count": 9,
     "metadata": {},
     "output_type": "execute_result"
    }
   ],
   "source": [
    "paymentMethods = pd.DataFrame(data.paymentMethods)\n",
    "paymentMethods.head()"
   ]
  },
  {
   "cell_type": "code",
   "execution_count": 10,
   "metadata": {},
   "outputs": [],
   "source": [
    "transactionAmount=[]\n",
    "transactions=[]\n",
    "transactionFailed=[]\n",
    "def split_trans(list1):\n",
    "    transAmt=0\n",
    "    Nooftrans=0\n",
    "    transFailed=0\n",
    "    for i in list1:\n",
    "        for j in i:\n",
    "            for k,v in j.items():\n",
    "                if(k=='transactionAmount'):\n",
    "                    transAmt += int(v)\n",
    "                    Nooftrans+=1\n",
    "                if(k=='transactionFailed' and v=='True'):\n",
    "                    transFailed+=1\n",
    "                    #print(k,':',v)\n",
    "        transactionAmount.append(transAmt)\n",
    "        transactions.append(Nooftrans)\n",
    "        transactionFailed.append(transFailed)"
   ]
  },
  {
   "cell_type": "code",
   "execution_count": 11,
   "metadata": {},
   "outputs": [],
   "source": [
    "split_trans(data.transactions)"
   ]
  },
  {
   "cell_type": "code",
   "execution_count": 12,
   "metadata": {},
   "outputs": [
    {
     "data": {
      "text/plain": [
       "{0}"
      ]
     },
     "execution_count": 12,
     "metadata": {},
     "output_type": "execute_result"
    }
   ],
   "source": [
    "set(transactionFailed)"
   ]
  },
  {
   "cell_type": "code",
   "execution_count": 13,
   "metadata": {},
   "outputs": [],
   "source": [
    "# creating dataframe based on the features extracted.\n",
    "\n",
    "new_df = pd.DataFrame()"
   ]
  },
  {
   "cell_type": "code",
   "execution_count": 14,
   "metadata": {},
   "outputs": [],
   "source": [
    "#new_df['customerDevice']= cust.customerDevice\n",
    "#new_df['customerEmail'] = cust.customerEmail"
   ]
  },
  {
   "cell_type": "code",
   "execution_count": 15,
   "metadata": {},
   "outputs": [],
   "source": [
    "new_df['orders']= orders\n",
    "new_df['orderAmounts'] = orderAmounts\n",
    "new_df['transactionAmount'] = transactionAmount\n",
    "new_df['transactions'] = transactions\n",
    "new_df['fradulent'] = data.fraudulent"
   ]
  },
  {
   "cell_type": "code",
   "execution_count": 16,
   "metadata": {},
   "outputs": [
    {
     "data": {
      "text/html": [
       "<div>\n",
       "<style scoped>\n",
       "    .dataframe tbody tr th:only-of-type {\n",
       "        vertical-align: middle;\n",
       "    }\n",
       "\n",
       "    .dataframe tbody tr th {\n",
       "        vertical-align: top;\n",
       "    }\n",
       "\n",
       "    .dataframe thead th {\n",
       "        text-align: right;\n",
       "    }\n",
       "</style>\n",
       "<table border=\"1\" class=\"dataframe\">\n",
       "  <thead>\n",
       "    <tr style=\"text-align: right;\">\n",
       "      <th></th>\n",
       "      <th>orders</th>\n",
       "      <th>orderAmounts</th>\n",
       "      <th>transactionAmount</th>\n",
       "      <th>transactions</th>\n",
       "      <th>fradulent</th>\n",
       "    </tr>\n",
       "  </thead>\n",
       "  <tbody>\n",
       "    <tr>\n",
       "      <th>0</th>\n",
       "      <td>2</td>\n",
       "      <td>44</td>\n",
       "      <td>44</td>\n",
       "      <td>2</td>\n",
       "      <td>False</td>\n",
       "    </tr>\n",
       "    <tr>\n",
       "      <th>1</th>\n",
       "      <td>5</td>\n",
       "      <td>155</td>\n",
       "      <td>155</td>\n",
       "      <td>5</td>\n",
       "      <td>True</td>\n",
       "    </tr>\n",
       "    <tr>\n",
       "      <th>2</th>\n",
       "      <td>8</td>\n",
       "      <td>237</td>\n",
       "      <td>286</td>\n",
       "      <td>10</td>\n",
       "      <td>False</td>\n",
       "    </tr>\n",
       "    <tr>\n",
       "      <th>3</th>\n",
       "      <td>11</td>\n",
       "      <td>322</td>\n",
       "      <td>371</td>\n",
       "      <td>13</td>\n",
       "      <td>False</td>\n",
       "    </tr>\n",
       "    <tr>\n",
       "      <th>4</th>\n",
       "      <td>18</td>\n",
       "      <td>733</td>\n",
       "      <td>782</td>\n",
       "      <td>20</td>\n",
       "      <td>True</td>\n",
       "    </tr>\n",
       "  </tbody>\n",
       "</table>\n",
       "</div>"
      ],
      "text/plain": [
       "   orders  orderAmounts  transactionAmount  transactions  fradulent\n",
       "0       2            44                 44             2      False\n",
       "1       5           155                155             5       True\n",
       "2       8           237                286            10      False\n",
       "3      11           322                371            13      False\n",
       "4      18           733                782            20       True"
      ]
     },
     "execution_count": 16,
     "metadata": {},
     "output_type": "execute_result"
    }
   ],
   "source": [
    "new_df.head()"
   ]
  },
  {
   "cell_type": "code",
   "execution_count": 17,
   "metadata": {},
   "outputs": [
    {
     "data": {
      "text/html": [
       "<div>\n",
       "<style scoped>\n",
       "    .dataframe tbody tr th:only-of-type {\n",
       "        vertical-align: middle;\n",
       "    }\n",
       "\n",
       "    .dataframe tbody tr th {\n",
       "        vertical-align: top;\n",
       "    }\n",
       "\n",
       "    .dataframe thead th {\n",
       "        text-align: right;\n",
       "    }\n",
       "</style>\n",
       "<table border=\"1\" class=\"dataframe\">\n",
       "  <thead>\n",
       "    <tr style=\"text-align: right;\">\n",
       "      <th></th>\n",
       "      <th>orders</th>\n",
       "      <th>orderAmounts</th>\n",
       "      <th>transactionAmount</th>\n",
       "      <th>transactions</th>\n",
       "      <th>fradulent</th>\n",
       "    </tr>\n",
       "  </thead>\n",
       "  <tbody>\n",
       "    <tr>\n",
       "      <th>0</th>\n",
       "      <td>2</td>\n",
       "      <td>44</td>\n",
       "      <td>44</td>\n",
       "      <td>2</td>\n",
       "      <td>False</td>\n",
       "    </tr>\n",
       "    <tr>\n",
       "      <th>1</th>\n",
       "      <td>5</td>\n",
       "      <td>155</td>\n",
       "      <td>155</td>\n",
       "      <td>5</td>\n",
       "      <td>True</td>\n",
       "    </tr>\n",
       "    <tr>\n",
       "      <th>2</th>\n",
       "      <td>8</td>\n",
       "      <td>237</td>\n",
       "      <td>286</td>\n",
       "      <td>10</td>\n",
       "      <td>False</td>\n",
       "    </tr>\n",
       "    <tr>\n",
       "      <th>3</th>\n",
       "      <td>11</td>\n",
       "      <td>322</td>\n",
       "      <td>371</td>\n",
       "      <td>13</td>\n",
       "      <td>False</td>\n",
       "    </tr>\n",
       "    <tr>\n",
       "      <th>4</th>\n",
       "      <td>18</td>\n",
       "      <td>733</td>\n",
       "      <td>782</td>\n",
       "      <td>20</td>\n",
       "      <td>True</td>\n",
       "    </tr>\n",
       "  </tbody>\n",
       "</table>\n",
       "</div>"
      ],
      "text/plain": [
       "   orders  orderAmounts  transactionAmount  transactions  fradulent\n",
       "0       2            44                 44             2      False\n",
       "1       5           155                155             5       True\n",
       "2       8           237                286            10      False\n",
       "3      11           322                371            13      False\n",
       "4      18           733                782            20       True"
      ]
     },
     "execution_count": 17,
     "metadata": {},
     "output_type": "execute_result"
    }
   ],
   "source": [
    "data2=pd.get_dummies(new_df, drop_first=True)\n",
    "data2.head()"
   ]
  },
  {
   "cell_type": "code",
   "execution_count": 18,
   "metadata": {},
   "outputs": [],
   "source": [
    "from sklearn.preprocessing import LabelEncoder\n",
    "le = LabelEncoder()\n",
    "data2.fradulent = le.fit_transform(data2.fradulent)"
   ]
  },
  {
   "cell_type": "code",
   "execution_count": 19,
   "metadata": {
    "scrolled": true
   },
   "outputs": [
    {
     "data": {
      "text/html": [
       "<div>\n",
       "<style scoped>\n",
       "    .dataframe tbody tr th:only-of-type {\n",
       "        vertical-align: middle;\n",
       "    }\n",
       "\n",
       "    .dataframe tbody tr th {\n",
       "        vertical-align: top;\n",
       "    }\n",
       "\n",
       "    .dataframe thead th {\n",
       "        text-align: right;\n",
       "    }\n",
       "</style>\n",
       "<table border=\"1\" class=\"dataframe\">\n",
       "  <thead>\n",
       "    <tr style=\"text-align: right;\">\n",
       "      <th></th>\n",
       "      <th>orders</th>\n",
       "      <th>orderAmounts</th>\n",
       "      <th>transactionAmount</th>\n",
       "      <th>transactions</th>\n",
       "      <th>fradulent</th>\n",
       "    </tr>\n",
       "  </thead>\n",
       "  <tbody>\n",
       "    <tr>\n",
       "      <th>0</th>\n",
       "      <td>2</td>\n",
       "      <td>44</td>\n",
       "      <td>44</td>\n",
       "      <td>2</td>\n",
       "      <td>0</td>\n",
       "    </tr>\n",
       "    <tr>\n",
       "      <th>1</th>\n",
       "      <td>5</td>\n",
       "      <td>155</td>\n",
       "      <td>155</td>\n",
       "      <td>5</td>\n",
       "      <td>1</td>\n",
       "    </tr>\n",
       "    <tr>\n",
       "      <th>2</th>\n",
       "      <td>8</td>\n",
       "      <td>237</td>\n",
       "      <td>286</td>\n",
       "      <td>10</td>\n",
       "      <td>0</td>\n",
       "    </tr>\n",
       "    <tr>\n",
       "      <th>3</th>\n",
       "      <td>11</td>\n",
       "      <td>322</td>\n",
       "      <td>371</td>\n",
       "      <td>13</td>\n",
       "      <td>0</td>\n",
       "    </tr>\n",
       "    <tr>\n",
       "      <th>4</th>\n",
       "      <td>18</td>\n",
       "      <td>733</td>\n",
       "      <td>782</td>\n",
       "      <td>20</td>\n",
       "      <td>1</td>\n",
       "    </tr>\n",
       "  </tbody>\n",
       "</table>\n",
       "</div>"
      ],
      "text/plain": [
       "   orders  orderAmounts  transactionAmount  transactions  fradulent\n",
       "0       2            44                 44             2          0\n",
       "1       5           155                155             5          1\n",
       "2       8           237                286            10          0\n",
       "3      11           322                371            13          0\n",
       "4      18           733                782            20          1"
      ]
     },
     "execution_count": 19,
     "metadata": {},
     "output_type": "execute_result"
    }
   ],
   "source": [
    "data2.head()"
   ]
  },
  {
   "cell_type": "code",
   "execution_count": 20,
   "metadata": {
    "scrolled": true
   },
   "outputs": [
    {
     "data": {
      "image/png": "[encoded data removed]",
      "text/plain": [
       "<Figure size 432x288 with 1 Axes>"
      ]
     },
     "metadata": {
      "needs_background": "light"
     },
     "output_type": "display_data"
    }
   ],
   "source": [
    "# Distribution of the target feature\n",
    "\n",
    "sns.distplot(data2.fradulent)\n",
    "plt.show()"
   ]
  },
  {
   "cell_type": "code",
   "execution_count": 21,
   "metadata": {
    "scrolled": true
   },
   "outputs": [
    {
     "data": {
      "image/png": "[encoded data removed]",
      "text/plain": [
       "<Figure size 900x900 with 30 Axes>"
      ]
     },
     "metadata": {
      "needs_background": "light"
     },
     "output_type": "display_data"
    }
   ],
   "source": [
    "sns.pairplot(data2)\n",
    "plt.show()"
   ]
  },
  {
   "cell_type": "markdown",
   "metadata": {},
   "source": [
    "Features seems to be highly correlated with each other."
   ]
  },
  {
   "cell_type": "code",
   "execution_count": 22,
   "metadata": {},
   "outputs": [],
   "source": [
    "X = data2.drop('fradulent', axis=1)\n",
    "y= data2.fradulent"
   ]
  },
  {
   "cell_type": "code",
   "execution_count": 23,
   "metadata": {},
   "outputs": [
    {
     "name": "stdout",
     "output_type": "stream",
     "text": [
      "X shape:  (168, 4)\n",
      "y shape:  (168,)\n"
     ]
    }
   ],
   "source": [
    "print(\"X shape: \", X.shape)\n",
    "print(\"y shape: \" ,y.shape)"
   ]
  },
  {
   "cell_type": "code",
   "execution_count": 24,
   "metadata": {},
   "outputs": [],
   "source": [
    "from sklearn.model_selection import train_test_split\n",
    "X_train, X_test, y_train, y_test = train_test_split(X,y, test_size=0.3, random_state=100)"
   ]
  },
  {
   "cell_type": "code",
   "execution_count": 25,
   "metadata": {
    "scrolled": true
   },
   "outputs": [
    {
     "name": "stdout",
     "output_type": "stream",
     "text": [
      "X shape:  (117, 4)\n",
      "X shape:  (51, 4)\n",
      "y shape:  (117,)\n",
      "y shape:  (51,)\n"
     ]
    }
   ],
   "source": [
    "print(\"X shape: \", X_train.shape)\n",
    "print(\"X shape: \", X_test.shape)\n",
    "print(\"y shape: \" ,y_train.shape)\n",
    "print(\"y shape: \" ,y_test.shape)"
   ]
  },
  {
   "cell_type": "markdown",
   "metadata": {},
   "source": [
    "### Establishing Baseline Model"
   ]
  },
  {
   "cell_type": "code",
   "execution_count": 26,
   "metadata": {},
   "outputs": [],
   "source": [
    "from sklearn.linear_model import LogisticRegression\n",
    "from sklearn.neighbors import KNeighborsClassifier\n",
    "from sklearn.tree import DecisionTreeClassifier\n",
    "from sklearn.ensemble import RandomForestClassifier\n",
    "from sklearn.ensemble import BaggingClassifier\n",
    "from sklearn.ensemble import AdaBoostClassifier\n",
    "from sklearn.ensemble import GradientBoostingClassifier\n",
    "from xgboost import XGBClassifier\n",
    "from sklearn.metrics import confusion_matrix, accuracy_score, roc_auc_score, f1_score"
   ]
  },
  {
   "cell_type": "code",
   "execution_count": 27,
   "metadata": {},
   "outputs": [],
   "source": [
    "from sklearn.metrics import accuracy_score, confusion_matrix, classification_report, roc_auc_score"
   ]
  },
  {
   "cell_type": "code",
   "execution_count": 28,
   "metadata": {},
   "outputs": [],
   "source": [
    "# Applying KNN Algorithm\n",
    "\n",
    "knn_model = KNeighborsClassifier()\n",
    "knn_model.fit(X_train, y_train)    \n",
    "y_pred = knn_model.predict(X_test)\n",
    "knn_score = accuracy_score(y_test, y_pred)\n",
    "kn = roc_auc_score(y_test, y_pred)\n",
    "fkn = f1_score(y_test, y_pred)"
   ]
  },
  {
   "cell_type": "code",
   "execution_count": 29,
   "metadata": {},
   "outputs": [
    {
     "name": "stdout",
     "output_type": "stream",
     "text": [
      "[[26  1]\n",
      " [21  3]]\n"
     ]
    }
   ],
   "source": [
    "print(confusion_matrix(y_test, y_pred))"
   ]
  },
  {
   "cell_type": "code",
   "execution_count": 30,
   "metadata": {},
   "outputs": [
    {
     "name": "stdout",
     "output_type": "stream",
     "text": [
      "              precision    recall  f1-score   support\n",
      "\n",
      "           0       0.55      0.96      0.70        27\n",
      "           1       0.75      0.12      0.21        24\n",
      "\n",
      "    accuracy                           0.57        51\n",
      "   macro avg       0.65      0.54      0.46        51\n",
      "weighted avg       0.65      0.57      0.47        51\n",
      "\n"
     ]
    }
   ],
   "source": [
    "print(classification_report(y_test, y_pred))"
   ]
  },
  {
   "cell_type": "code",
   "execution_count": 31,
   "metadata": {},
   "outputs": [
    {
     "name": "stderr",
     "output_type": "stream",
     "text": [
      "C:\\Users\\Nikhil Darade\\Anaconda3\\lib\\site-packages\\sklearn\\linear_model\\logistic.py:432: FutureWarning: Default solver will be changed to 'lbfgs' in 0.22. Specify a solver to silence this warning.\n",
      "  FutureWarning)\n"
     ]
    }
   ],
   "source": [
    "# Applying Logistic Regression\n",
    "\n",
    "l_model = LogisticRegression()\n",
    "l_model.fit(X_train, y_train)    \n",
    "y_pred = l_model.predict(X_test)\n",
    "log_score = accuracy_score(y_test, y_pred)\n",
    "l = roc_auc_score(y_test, y_pred)\n",
    "fl = f1_score(y_test, y_pred)"
   ]
  },
  {
   "cell_type": "code",
   "execution_count": 32,
   "metadata": {},
   "outputs": [
    {
     "name": "stdout",
     "output_type": "stream",
     "text": [
      "[[26  1]\n",
      " [23  1]]\n"
     ]
    }
   ],
   "source": [
    "print(confusion_matrix(y_test, y_pred))"
   ]
  },
  {
   "cell_type": "code",
   "execution_count": 33,
   "metadata": {},
   "outputs": [
    {
     "name": "stdout",
     "output_type": "stream",
     "text": [
      "              precision    recall  f1-score   support\n",
      "\n",
      "           0       0.53      0.96      0.68        27\n",
      "           1       0.50      0.04      0.08        24\n",
      "\n",
      "    accuracy                           0.53        51\n",
      "   macro avg       0.52      0.50      0.38        51\n",
      "weighted avg       0.52      0.53      0.40        51\n",
      "\n"
     ]
    }
   ],
   "source": [
    "print(classification_report(y_test, y_pred))"
   ]
  },
  {
   "cell_type": "code",
   "execution_count": 34,
   "metadata": {},
   "outputs": [],
   "source": [
    "# Applying Decision Regression\n",
    "\n",
    "dec_tree = DecisionTreeClassifier()\n",
    "dec_tree.fit(X_train,y_train)\n",
    "y_pred = dec_tree.predict(X_test)\n",
    "dec_score = accuracy_score(y_test,y_pred)\n",
    "d = roc_auc_score(y_test, y_pred)\n",
    "fd = f1_score(y_test, y_pred)"
   ]
  },
  {
   "cell_type": "code",
   "execution_count": 35,
   "metadata": {},
   "outputs": [
    {
     "name": "stdout",
     "output_type": "stream",
     "text": [
      "[[21  6]\n",
      " [22  2]]\n"
     ]
    }
   ],
   "source": [
    "print(confusion_matrix(y_test, y_pred))"
   ]
  },
  {
   "cell_type": "code",
   "execution_count": 36,
   "metadata": {},
   "outputs": [
    {
     "name": "stdout",
     "output_type": "stream",
     "text": [
      "              precision    recall  f1-score   support\n",
      "\n",
      "           0       0.49      0.78      0.60        27\n",
      "           1       0.25      0.08      0.12        24\n",
      "\n",
      "    accuracy                           0.45        51\n",
      "   macro avg       0.37      0.43      0.36        51\n",
      "weighted avg       0.38      0.45      0.38        51\n",
      "\n"
     ]
    }
   ],
   "source": [
    "print(classification_report(y_test, y_pred))"
   ]
  },
  {
   "cell_type": "code",
   "execution_count": 37,
   "metadata": {},
   "outputs": [
    {
     "name": "stderr",
     "output_type": "stream",
     "text": [
      "C:\\Users\\Nikhil Darade\\Anaconda3\\lib\\site-packages\\sklearn\\ensemble\\forest.py:245: FutureWarning: The default value of n_estimators will change from 10 in version 0.20 to 100 in 0.22.\n",
      "  \"10 in version 0.20 to 100 in 0.22.\", FutureWarning)\n"
     ]
    }
   ],
   "source": [
    "# Applying Random Forest\n",
    "\n",
    "rf = RandomForestClassifier()\n",
    "rf.fit(X_train,y_train)\n",
    "y_pred = rf.predict(X_test)\n",
    "rf_score = accuracy_score(y_test, y_pred)\n",
    "r = roc_auc_score(y_test, y_pred)\n",
    "fr = f1_score(y_test, y_pred)"
   ]
  },
  {
   "cell_type": "code",
   "execution_count": 38,
   "metadata": {},
   "outputs": [
    {
     "name": "stdout",
     "output_type": "stream",
     "text": [
      "[[23  4]\n",
      " [22  2]]\n"
     ]
    }
   ],
   "source": [
    "print(confusion_matrix(y_test, y_pred))"
   ]
  },
  {
   "cell_type": "code",
   "execution_count": 39,
   "metadata": {},
   "outputs": [
    {
     "name": "stdout",
     "output_type": "stream",
     "text": [
      "              precision    recall  f1-score   support\n",
      "\n",
      "           0       0.51      0.85      0.64        27\n",
      "           1       0.33      0.08      0.13        24\n",
      "\n",
      "    accuracy                           0.49        51\n",
      "   macro avg       0.42      0.47      0.39        51\n",
      "weighted avg       0.43      0.49      0.40        51\n",
      "\n"
     ]
    }
   ],
   "source": [
    "print(classification_report(y_test, y_pred))"
   ]
  },
  {
   "cell_type": "code",
   "execution_count": 40,
   "metadata": {},
   "outputs": [],
   "source": [
    "# Applying Bagging Classifier\n",
    "\n",
    "bg = BaggingClassifier()\n",
    "bg.fit(X_train,y_train)\n",
    "y_pred = bg.predict(X_test)\n",
    "bg_score = accuracy_score(y_test,y_pred)\n",
    "b=roc_auc_score(y_test, y_pred)\n",
    "fb = f1_score(y_test, y_pred)"
   ]
  },
  {
   "cell_type": "code",
   "execution_count": 41,
   "metadata": {},
   "outputs": [
    {
     "name": "stdout",
     "output_type": "stream",
     "text": [
      "[[24  3]\n",
      " [21  3]]\n"
     ]
    }
   ],
   "source": [
    "print(confusion_matrix(y_test, y_pred))"
   ]
  },
  {
   "cell_type": "code",
   "execution_count": 42,
   "metadata": {},
   "outputs": [
    {
     "name": "stdout",
     "output_type": "stream",
     "text": [
      "              precision    recall  f1-score   support\n",
      "\n",
      "           0       0.53      0.89      0.67        27\n",
      "           1       0.50      0.12      0.20        24\n",
      "\n",
      "    accuracy                           0.53        51\n",
      "   macro avg       0.52      0.51      0.43        51\n",
      "weighted avg       0.52      0.53      0.45        51\n",
      "\n"
     ]
    }
   ],
   "source": [
    "print(classification_report(y_test, y_pred))"
   ]
  },
  {
   "cell_type": "code",
   "execution_count": 43,
   "metadata": {},
   "outputs": [],
   "source": [
    "# Applying Adaboost Classifier\n",
    "\n",
    "ad = AdaBoostClassifier()\n",
    "ad.fit(X_train,y_train)\n",
    "y_pred = ad.predict(X_test)\n",
    "ad_score = accuracy_score(y_test,y_pred)\n",
    "a = roc_auc_score(y_test, y_pred)\n",
    "fa= f1_score(y_test, y_pred)"
   ]
  },
  {
   "cell_type": "code",
   "execution_count": 44,
   "metadata": {},
   "outputs": [
    {
     "name": "stdout",
     "output_type": "stream",
     "text": [
      "[[24  3]\n",
      " [20  4]]\n"
     ]
    }
   ],
   "source": [
    "print(confusion_matrix(y_test, y_pred))"
   ]
  },
  {
   "cell_type": "code",
   "execution_count": 45,
   "metadata": {},
   "outputs": [
    {
     "name": "stdout",
     "output_type": "stream",
     "text": [
      "              precision    recall  f1-score   support\n",
      "\n",
      "           0       0.55      0.89      0.68        27\n",
      "           1       0.57      0.17      0.26        24\n",
      "\n",
      "    accuracy                           0.55        51\n",
      "   macro avg       0.56      0.53      0.47        51\n",
      "weighted avg       0.56      0.55      0.48        51\n",
      "\n"
     ]
    }
   ],
   "source": [
    "print(classification_report(y_test, y_pred))"
   ]
  },
  {
   "cell_type": "code",
   "execution_count": 46,
   "metadata": {},
   "outputs": [],
   "source": [
    "# Applying Gradient Boosting Classifier\n",
    "\n",
    "gb = GradientBoostingClassifier()\n",
    "gb.fit(X_train,y_train)\n",
    "y_pred = gb.predict(X_test)\n",
    "gb_score = accuracy_score(y_test,y_pred)\n",
    "g= roc_auc_score(y_test, y_pred)\n",
    "fg = f1_score(y_test, y_pred)"
   ]
  },
  {
   "cell_type": "code",
   "execution_count": 47,
   "metadata": {},
   "outputs": [
    {
     "name": "stdout",
     "output_type": "stream",
     "text": [
      "[[22  5]\n",
      " [21  3]]\n"
     ]
    }
   ],
   "source": [
    "print(confusion_matrix(y_test, y_pred))"
   ]
  },
  {
   "cell_type": "code",
   "execution_count": 48,
   "metadata": {},
   "outputs": [
    {
     "name": "stdout",
     "output_type": "stream",
     "text": [
      "              precision    recall  f1-score   support\n",
      "\n",
      "           0       0.51      0.81      0.63        27\n",
      "           1       0.38      0.12      0.19        24\n",
      "\n",
      "    accuracy                           0.49        51\n",
      "   macro avg       0.44      0.47      0.41        51\n",
      "weighted avg       0.45      0.49      0.42        51\n",
      "\n"
     ]
    }
   ],
   "source": [
    "print(classification_report(y_test, y_pred))"
   ]
  },
  {
   "cell_type": "code",
   "execution_count": 49,
   "metadata": {},
   "outputs": [],
   "source": [
    "# Applying XGBoost Classifier\n",
    "\n",
    "xg = XGBClassifier()\n",
    "xg.fit(X_train,y_train)\n",
    "y_pred = xg.predict(X_test)\n",
    "xg_score = accuracy_score(y_test,y_pred)\n",
    "x= roc_auc_score(y_test, y_pred)\n",
    "fx = f1_score(y_test, y_pred)"
   ]
  },
  {
   "cell_type": "code",
   "execution_count": 50,
   "metadata": {},
   "outputs": [
    {
     "name": "stdout",
     "output_type": "stream",
     "text": [
      "[[25  2]\n",
      " [21  3]]\n"
     ]
    }
   ],
   "source": [
    "print(confusion_matrix(y_test, y_pred))"
   ]
  },
  {
   "cell_type": "code",
   "execution_count": 51,
   "metadata": {},
   "outputs": [
    {
     "name": "stdout",
     "output_type": "stream",
     "text": [
      "              precision    recall  f1-score   support\n",
      "\n",
      "           0       0.54      0.93      0.68        27\n",
      "           1       0.60      0.12      0.21        24\n",
      "\n",
      "    accuracy                           0.55        51\n",
      "   macro avg       0.57      0.53      0.45        51\n",
      "weighted avg       0.57      0.55      0.46        51\n",
      "\n"
     ]
    }
   ],
   "source": [
    "print(classification_report(y_test, y_pred))"
   ]
  },
  {
   "cell_type": "code",
   "execution_count": 52,
   "metadata": {},
   "outputs": [
    {
     "data": {
      "text/html": [
       "<div>\n",
       "<style scoped>\n",
       "    .dataframe tbody tr th:only-of-type {\n",
       "        vertical-align: middle;\n",
       "    }\n",
       "\n",
       "    .dataframe tbody tr th {\n",
       "        vertical-align: top;\n",
       "    }\n",
       "\n",
       "    .dataframe thead th {\n",
       "        text-align: right;\n",
       "    }\n",
       "</style>\n",
       "<table border=\"1\" class=\"dataframe\">\n",
       "  <thead>\n",
       "    <tr style=\"text-align: right;\">\n",
       "      <th></th>\n",
       "      <th>Classifier</th>\n",
       "      <th>accuracy score</th>\n",
       "      <th>roc_auc score</th>\n",
       "      <th>f1 score</th>\n",
       "    </tr>\n",
       "  </thead>\n",
       "  <tbody>\n",
       "    <tr>\n",
       "      <th>0</th>\n",
       "      <td>Logistic Regression</td>\n",
       "      <td>0.529412</td>\n",
       "      <td>0.502315</td>\n",
       "      <td>0.076923</td>\n",
       "    </tr>\n",
       "    <tr>\n",
       "      <th>1</th>\n",
       "      <td>K-Nearest Neighbor</td>\n",
       "      <td>0.568627</td>\n",
       "      <td>0.543981</td>\n",
       "      <td>0.214286</td>\n",
       "    </tr>\n",
       "    <tr>\n",
       "      <th>2</th>\n",
       "      <td>Decision tree  Classifier</td>\n",
       "      <td>0.450980</td>\n",
       "      <td>0.430556</td>\n",
       "      <td>0.125000</td>\n",
       "    </tr>\n",
       "    <tr>\n",
       "      <th>3</th>\n",
       "      <td>Random Forest Classifier</td>\n",
       "      <td>0.490196</td>\n",
       "      <td>0.467593</td>\n",
       "      <td>0.133333</td>\n",
       "    </tr>\n",
       "    <tr>\n",
       "      <th>4</th>\n",
       "      <td>Bagging Classifier</td>\n",
       "      <td>0.529412</td>\n",
       "      <td>0.506944</td>\n",
       "      <td>0.200000</td>\n",
       "    </tr>\n",
       "    <tr>\n",
       "      <th>5</th>\n",
       "      <td>Adaboost Classifier</td>\n",
       "      <td>0.549020</td>\n",
       "      <td>0.527778</td>\n",
       "      <td>0.258065</td>\n",
       "    </tr>\n",
       "    <tr>\n",
       "      <th>6</th>\n",
       "      <td>Gradient Boosting Classifier</td>\n",
       "      <td>0.490196</td>\n",
       "      <td>0.469907</td>\n",
       "      <td>0.187500</td>\n",
       "    </tr>\n",
       "    <tr>\n",
       "      <th>7</th>\n",
       "      <td>XGBoost Classifier</td>\n",
       "      <td>0.549020</td>\n",
       "      <td>0.525463</td>\n",
       "      <td>0.206897</td>\n",
       "    </tr>\n",
       "  </tbody>\n",
       "</table>\n",
       "</div>"
      ],
      "text/plain": [
       "                     Classifier  accuracy score  roc_auc score  f1 score\n",
       "0           Logistic Regression        0.529412       0.502315  0.076923\n",
       "1            K-Nearest Neighbor        0.568627       0.543981  0.214286\n",
       "2     Decision tree  Classifier        0.450980       0.430556  0.125000\n",
       "3      Random Forest Classifier        0.490196       0.467593  0.133333\n",
       "4            Bagging Classifier        0.529412       0.506944  0.200000\n",
       "5           Adaboost Classifier        0.549020       0.527778  0.258065\n",
       "6  Gradient Boosting Classifier        0.490196       0.469907  0.187500\n",
       "7            XGBoost Classifier        0.549020       0.525463  0.206897"
      ]
     },
     "execution_count": 52,
     "metadata": {},
     "output_type": "execute_result"
    }
   ],
   "source": [
    "acc_df = pd.DataFrame({'Classifier':['Logistic Regression','K-Nearest Neighbor','Decision tree  Classifier', 'Random Forest Classifier','Bagging Classifier','Adaboost Classifier','Gradient Boosting Classifier','XGBoost Classifier'],\n",
    "                      'accuracy score': [log_score, knn_score,dec_score,rf_score, bg_score,ad_score,gb_score,xg_score], 'roc_auc score': [l,kn,d,r,b,a,g,x],\n",
    "                       'f1 score':[fl,fkn,fd,fr,fb,fa,fg,fx]})\n",
    "acc_df"
   ]
  },
  {
   "cell_type": "markdown",
   "metadata": {},
   "source": [
    "Of the above models, Adaboost and XGBoost Classifier works better on the roc_auc score as well as accuracy metrics.\n"
   ]
  },
  {
   "cell_type": "markdown",
   "metadata": {},
   "source": [
    "### Tuning Hyper parameter"
   ]
  },
  {
   "cell_type": "markdown",
   "metadata": {},
   "source": [
    "Tuning hyperparamters to see the XGBoost Classifier Model to see if evaluation metrics improve."
   ]
  },
  {
   "cell_type": "code",
   "execution_count": 53,
   "metadata": {},
   "outputs": [],
   "source": [
    "from sklearn.model_selection import RandomizedSearchCV"
   ]
  },
  {
   "cell_type": "code",
   "execution_count": 54,
   "metadata": {
    "scrolled": true
   },
   "outputs": [
    {
     "name": "stderr",
     "output_type": "stream",
     "text": [
      "C:\\Users\\Nikhil Darade\\Anaconda3\\lib\\site-packages\\sklearn\\model_selection\\_search.py:813: DeprecationWarning: The default of the `iid` parameter will change from True to False in version 0.22 and will be removed in 0.24. This will change numeric results when test-set sizes are unequal.\n",
      "  DeprecationWarning)\n"
     ]
    }
   ],
   "source": [
    "# Applying XGBoost Classifier with hypertuned parameters\n",
    "\n",
    "params_xgm={'n_estimators': [200,400, 700, 1000], 'min_samples_split': [2,3,5], 'min_samples_leaf': [3,5], 'max_depth': [3,5,7], 'eta': [0.01,0.1,1], 'alpha': [0.001,0.01,0.1]}\n",
    "xg = XGBClassifier()\n",
    "rsxg = RandomizedSearchCV(estimator=xg, param_distributions =params_xgm, scoring='roc_auc', cv=10, n_jobs=-1)\n",
    "rsxg.fit(X_train,y_train)\n",
    "y_pred = rsxg.predict(X_test)\n",
    "xg_score = accuracy_score(y_test,y_pred)\n",
    "x= roc_auc_score(y_test, y_pred)"
   ]
  },
  {
   "cell_type": "code",
   "execution_count": 55,
   "metadata": {},
   "outputs": [
    {
     "data": {
      "text/plain": [
       "XGBClassifier(alpha=0.1, base_score=0.5, booster='gbtree', colsample_bylevel=1,\n",
       "              colsample_bynode=1, colsample_bytree=1, eta=0.1, gamma=0,\n",
       "              learning_rate=0.1, max_delta_step=0, max_depth=5,\n",
       "              min_child_weight=1, min_samples_leaf=3, min_samples_split=2,\n",
       "              missing=None, n_estimators=200, n_jobs=1, nthread=None,\n",
       "              objective='binary:logistic', random_state=0, reg_alpha=0,\n",
       "              reg_lambda=1, scale_pos_weight=1, seed=None, silent=None,\n",
       "              subsample=1, verbosity=1)"
      ]
     },
     "execution_count": 55,
     "metadata": {},
     "output_type": "execute_result"
    }
   ],
   "source": [
    "rsxg.best_estimator_"
   ]
  },
  {
   "cell_type": "code",
   "execution_count": 56,
   "metadata": {},
   "outputs": [
    {
     "name": "stdout",
     "output_type": "stream",
     "text": [
      "ROC-AUC score:  0.5277777777777778\n",
      "Accuracy score:  0.5490196078431373\n"
     ]
    }
   ],
   "source": [
    "print(\"ROC-AUC score: \",x)\n",
    "print(\"Accuracy score: \", xg_score)"
   ]
  },
  {
   "cell_type": "code",
   "execution_count": 57,
   "metadata": {
    "scrolled": true
   },
   "outputs": [
    {
     "data": {
      "image/png": "[encoded data removed]",
      "text/plain": [
       "<Figure size 504x360 with 1 Axes>"
      ]
     },
     "metadata": {
      "needs_background": "light"
     },
     "output_type": "display_data"
    }
   ],
   "source": [
    "Feature_importance=pd.DataFrame()\n",
    "Feature_importance[\"Feature\"] = list(X_train.columns)\n",
    "Feature_importance[\"Importance\"] = rsxg.best_estimator_.feature_importances_\n",
    "Feature_importance.sort_values(\"Importance\",  ascending=False, inplace=True)\n",
    "fig, ax = plt.subplots(figsize=(7,5))\n",
    "sns.barplot(data=Feature_importance[:50],x='Importance',y='Feature')\n",
    "plt.show()"
   ]
  },
  {
   "cell_type": "code",
   "execution_count": 59,
   "metadata": {},
   "outputs": [
    {
     "name": "stderr",
     "output_type": "stream",
     "text": [
      "C:\\Users\\Nikhil Darade\\Anaconda3\\lib\\site-packages\\sklearn\\model_selection\\_search.py:266: UserWarning: The total space of parameters 1 is smaller than n_iter=10. Running 1 iterations. For exhaustive searches, use GridSearchCV.\n",
      "  % (grid_size, self.n_iter, grid_size), UserWarning)\n",
      "C:\\Users\\Nikhil Darade\\Anaconda3\\lib\\site-packages\\sklearn\\model_selection\\_search.py:813: DeprecationWarning: The default of the `iid` parameter will change from True to False in version 0.22 and will be removed in 0.24. This will change numeric results when test-set sizes are unequal.\n",
      "  DeprecationWarning)\n"
     ]
    }
   ],
   "source": [
    "# Applying Adaboost Classifier with hypertuned parameters\n",
    "\n",
    "params_adm={'n_estimators': [200]}\n",
    "ad = AdaBoostClassifier()\n",
    "rsad = RandomizedSearchCV(estimator=ad, param_distributions =params_adm, scoring='roc_auc', cv=10, n_jobs=-1)\n",
    "rsad.fit(X_train,y_train)\n",
    "y_pred = rsad.predict(X_test)\n",
    "xad_score = accuracy_score(y_test,y_pred)\n",
    "ad= roc_auc_score(y_test, y_pred)"
   ]
  },
  {
   "cell_type": "code",
   "execution_count": 60,
   "metadata": {},
   "outputs": [
    {
     "data": {
      "text/plain": [
       "AdaBoostClassifier(algorithm='SAMME.R', base_estimator=None, learning_rate=1.0,\n",
       "                   n_estimators=200, random_state=None)"
      ]
     },
     "execution_count": 60,
     "metadata": {},
     "output_type": "execute_result"
    }
   ],
   "source": [
    "rsad.best_estimator_"
   ]
  },
  {
   "cell_type": "code",
   "execution_count": 61,
   "metadata": {},
   "outputs": [
    {
     "name": "stdout",
     "output_type": "stream",
     "text": [
      "ROC-AUC score:  0.44907407407407407\n",
      "Accuracy score:  0.5490196078431373\n"
     ]
    }
   ],
   "source": [
    "print(\"ROC-AUC score: \",ad)\n",
    "print(\"Accuracy score: \", ad_score)"
   ]
  },
  {
   "cell_type": "code",
   "execution_count": 62,
   "metadata": {},
   "outputs": [
    {
     "data": {
      "image/png": "[encoded data removed]",
      "text/plain": [
       "<Figure size 504x360 with 1 Axes>"
      ]
     },
     "metadata": {
      "needs_background": "light"
     },
     "output_type": "display_data"
    }
   ],
   "source": [
    "Feature_importance=pd.DataFrame()\n",
    "Feature_importance[\"Feature\"] = list(X_train.columns)\n",
    "Feature_importance[\"Importance\"] = rsad.best_estimator_.feature_importances_\n",
    "Feature_importance.sort_values(\"Importance\",  ascending=False, inplace=True)\n",
    "fig, ax = plt.subplots(figsize=(7,5))\n",
    "sns.barplot(data=Feature_importance[:50],x='Importance',y='Feature')\n",
    "plt.show()"
   ]
  },
  {
   "cell_type": "markdown",
   "metadata": {},
   "source": [
    "Hypertuning of the parameters of either of the models (Adabbost and XGBoost Classifiers) did not help much in improving the metrics.\n",
    "Models requires some more the important features to be extracted to predict better.\n",
    "ROC_AUC score was selected as first preference and accuracy score as the second.\n",
    "ROC_AUC score will help find the better threshold for the model to better distinguish between the two class : fradulent or not."
   ]
  },
  {
   "cell_type": "markdown",
   "metadata": {},
   "source": [
    "Proceeding with XBoost model.\n",
    "Feature Importance shows that orders feature is the one that is highly import to predict whether a customer will engage in fradulent trnsaction.\n",
    "We get the following metrics: \n",
    "ROC-AUC score:  0.5277777777777778\n",
    "Accuracy score:  0.5490196078431373"
   ]
  },
  {
   "cell_type": "code",
   "execution_count": null,
   "metadata": {},
   "outputs": [],
   "source": []
  }
 ],
 "metadata": {
  "kernelspec": {
   "display_name": "Python 3",
   "language": "python",
   "name": "python3"
  },
  "language_info": {
   "codemirror_mode": {
    "name": "ipython",
    "version": 3
   },
   "file_extension": ".py",
   "mimetype": "text/x-python",
   "name": "python",
   "nbconvert_exporter": "python",
   "pygments_lexer": "ipython3",
   "version": "3.7.3"
  }
 },
 "nbformat": 4,
 "nbformat_minor": 2
}
